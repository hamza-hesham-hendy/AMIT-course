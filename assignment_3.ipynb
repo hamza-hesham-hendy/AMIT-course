{
  "cells": [
    {
      "cell_type": "markdown",
      "metadata": {
        "id": "7rMJIubZGObP"
      },
      "source": [
        "#### Multiply 10 with 5, and print the result.\n",
        "\n"
      ]
    },
    {
      "cell_type": "code",
      "execution_count": 17,
      "metadata": {},
      "outputs": [
        {
          "data": {
            "text/plain": [
              "50"
            ]
          },
          "execution_count": 17,
          "metadata": {},
          "output_type": "execute_result"
        }
      ],
      "source": [
        "10*5"
      ]
    },
    {
      "cell_type": "markdown",
      "metadata": {
        "id": "Mucrs9f5GYw3"
      },
      "source": [
        "### Divide 10 by 2, and print the result.\n",
        "\n"
      ]
    },
    {
      "cell_type": "code",
      "execution_count": 18,
      "metadata": {},
      "outputs": [
        {
          "data": {
            "text/plain": [
              "5.0"
            ]
          },
          "execution_count": 18,
          "metadata": {},
          "output_type": "execute_result"
        }
      ],
      "source": [
        "10/2"
      ]
    },
    {
      "cell_type": "markdown",
      "metadata": {
        "id": "GhvrFFPxGkLF"
      },
      "source": [
        "### Use the correct membership operator to check if \"apple\" is present in the fruits object.\n",
        "\n"
      ]
    },
    {
      "cell_type": "code",
      "execution_count": 19,
      "metadata": {},
      "outputs": [
        {
          "name": "stdout",
          "output_type": "stream",
          "text": [
            "True\n"
          ]
        }
      ],
      "source": [
        "fruits=[\"apple\",\"mango\"]\n",
        "print(\"apple\" in fruits)"
      ]
    },
    {
      "cell_type": "markdown",
      "metadata": {
        "id": "71TfNEQxGuNw"
      },
      "source": [
        "### Use the correct comparison operator to check if 5 is `not equal` to 10.\n",
        "\n"
      ]
    },
    {
      "cell_type": "code",
      "execution_count": 20,
      "metadata": {},
      "outputs": [
        {
          "data": {
            "text/plain": [
              "True"
            ]
          },
          "execution_count": 20,
          "metadata": {},
          "output_type": "execute_result"
        }
      ],
      "source": [
        "5!=10"
      ]
    },
    {
      "cell_type": "markdown",
      "metadata": {
        "id": "_cqga3VjG9jJ"
      },
      "source": [
        "### Use the correct logical operator to check if at least one of two statements is `True`.\n",
        "\n"
      ]
    },
    {
      "cell_type": "code",
      "execution_count": 21,
      "metadata": {},
      "outputs": [
        {
          "name": "stdout",
          "output_type": "stream",
          "text": [
            "True\n"
          ]
        }
      ],
      "source": [
        "print(True or False)"
      ]
    },
    {
      "cell_type": "markdown",
      "metadata": {
        "id": "gvFm9RC4H2BJ"
      },
      "source": [
        "### Print the second item in the fruits list.\n",
        "\n"
      ]
    },
    {
      "cell_type": "code",
      "execution_count": 22,
      "metadata": {},
      "outputs": [
        {
          "name": "stdout",
          "output_type": "stream",
          "text": [
            "mango\n"
          ]
        }
      ],
      "source": [
        "print(fruits[1])"
      ]
    },
    {
      "cell_type": "markdown",
      "metadata": {
        "id": "_o7i99HGICNC"
      },
      "source": [
        "### Change the value from \"apple\" to \"kiwi\", in the fruits list.\n",
        "\n"
      ]
    },
    {
      "cell_type": "code",
      "execution_count": 23,
      "metadata": {},
      "outputs": [
        {
          "name": "stdout",
          "output_type": "stream",
          "text": [
            "['kiwi', 'mango']\n"
          ]
        }
      ],
      "source": [
        "index=fruits.index(\"apple\")\n",
        "fruits[index]=\"kiwi\"\n",
        "print(fruits)"
      ]
    },
    {
      "cell_type": "markdown",
      "metadata": {
        "id": "Wxi383HNILra"
      },
      "source": [
        "### Use the append method to add \"orange\" to the fruits list.\n",
        "\n"
      ]
    },
    {
      "cell_type": "code",
      "execution_count": 24,
      "metadata": {},
      "outputs": [
        {
          "data": {
            "text/plain": [
              "['kiwi', 'mango', 'orange']"
            ]
          },
          "execution_count": 24,
          "metadata": {},
          "output_type": "execute_result"
        }
      ],
      "source": [
        "fruits.append(\"orange\")\n",
        "fruits"
      ]
    },
    {
      "cell_type": "markdown",
      "metadata": {
        "id": "z6tv8q6zIUjZ"
      },
      "source": [
        "### Use the insert method to add \"lemon\" as the second item in the fruits list.\n",
        "\n"
      ]
    },
    {
      "cell_type": "code",
      "execution_count": 25,
      "metadata": {},
      "outputs": [
        {
          "data": {
            "text/plain": [
              "['banana', 'kiwi', 'mango', 'orange']"
            ]
          },
          "execution_count": 25,
          "metadata": {},
          "output_type": "execute_result"
        }
      ],
      "source": [
        "fruits.insert(0,\"banana\")\n",
        "fruits"
      ]
    },
    {
      "cell_type": "markdown",
      "metadata": {
        "id": "CsyceyyBIiSw"
      },
      "source": [
        "### Use the remove method to remove `\"banana\"` from the fruits list.\n",
        "\n"
      ]
    },
    {
      "cell_type": "code",
      "execution_count": 26,
      "metadata": {},
      "outputs": [
        {
          "data": {
            "text/plain": [
              "['kiwi', 'mango', 'orange']"
            ]
          },
          "execution_count": 26,
          "metadata": {},
          "output_type": "execute_result"
        }
      ],
      "source": [
        "fruits.remove(\"banana\")\n",
        "fruits"
      ]
    },
    {
      "cell_type": "markdown",
      "metadata": {
        "id": "0fbTHlYrIrwY"
      },
      "source": [
        "### Use negative indexing to print the last item in the list.\n",
        "\n"
      ]
    },
    {
      "cell_type": "code",
      "execution_count": 27,
      "metadata": {},
      "outputs": [
        {
          "data": {
            "text/plain": [
              "'orange'"
            ]
          },
          "execution_count": 27,
          "metadata": {},
          "output_type": "execute_result"
        }
      ],
      "source": [
        "fruits[-1]"
      ]
    },
    {
      "cell_type": "markdown",
      "metadata": {
        "id": "rR3ORmMVI55Z"
      },
      "source": [
        "### Use a range of indexes to print the third, fourth, and fifth item in the list.\n",
        "\n"
      ]
    },
    {
      "cell_type": "code",
      "execution_count": 28,
      "metadata": {},
      "outputs": [
        {
          "data": {
            "text/plain": [
              "['mango', 'orange']"
            ]
          },
          "execution_count": 28,
          "metadata": {},
          "output_type": "execute_result"
        }
      ],
      "source": [
        "fruits[1:3]"
      ]
    },
    {
      "cell_type": "markdown",
      "metadata": {
        "id": "tc0ZAGQ2JfM9"
      },
      "source": [
        "### Use the correct syntax to print the number of items in the list.\n",
        "\n"
      ]
    },
    {
      "cell_type": "code",
      "execution_count": 29,
      "metadata": {},
      "outputs": [
        {
          "data": {
            "text/plain": [
              "3"
            ]
          },
          "execution_count": 29,
          "metadata": {},
          "output_type": "execute_result"
        }
      ],
      "source": [
        "len(fruits)"
      ]
    },
    {
      "cell_type": "markdown",
      "metadata": {
        "id": "feYJq0vYKe1S"
      },
      "source": [
        "### Write a Python program to print all even numbers from a given list of numbers in the same order and stop printing any after 237 in the sequence."
      ]
    },
    {
      "cell_type": "code",
      "execution_count": 32,
      "metadata": {},
      "outputs": [
        {
          "name": "stdout",
          "output_type": "stream",
          "text": [
            "2\n",
            "4\n",
            "150\n",
            "160\n",
            "\n",
            "\n",
            "2\n",
            "4\n",
            "150\n",
            "160\n"
          ]
        }
      ],
      "source": [
        "numbers=[1,2,3,4,65,101,150,160,165,237,300,305,400,401]\n",
        "for num in numbers:\n",
        "    if num==237:\n",
        "        break\n",
        "    if num%2==0:\n",
        "        print(num)\n",
        "        \n",
        "#or\n",
        "print(\"\\n\")\n",
        "num=[1,2,3,4,65,101,150,160,165,237,300,305,400,401]\n",
        "i=0\n",
        "while (i<len(num) and num[i]!=237):\n",
        "    if (num[i]%2==0):\n",
        "        print(num[i])\n",
        "    i+=1"
      ]
    },
    {
      "cell_type": "markdown",
      "metadata": {
        "id": "FX6mi5tqLb5J"
      },
      "source": [
        "### Write a Python program that will accept the base and height of a triangle and compute its area.\n",
        "\n"
      ]
    },
    {
      "cell_type": "code",
      "execution_count": 16,
      "metadata": {},
      "outputs": [
        {
          "name": "stdout",
          "output_type": "stream",
          "text": [
            "area is equal= 25.0\n"
          ]
        }
      ],
      "source": [
        "base=float(input(\"enter base \")) #10\n",
        "height=float(input(\"enter height \")) #5\n",
        "print(\"area is equal= \" + str(0.5*base*height))"
      ]
    },
    {
      "cell_type": "markdown",
      "metadata": {
        "id": "tP7gY2ZCPxnU"
      },
      "source": [
        "### Sort three integers without using conditional statements\n",
        "\n"
      ]
    },
    {
      "cell_type": "code",
      "execution_count": 33,
      "metadata": {},
      "outputs": [
        {
          "name": "stdout",
          "output_type": "stream",
          "text": [
            "5 10 20\n"
          ]
        }
      ],
      "source": [
        "x=int(input(\"first number \")) #10\n",
        "y=int(input(\"second number \")) #20\n",
        "z=int(input(\"third number \")) #5\n",
        "maximum=max(x,y,z)\n",
        "minimum=min(x,y,z)\n",
        "middle=x+y+z-maximum-minimum\n",
        "print(f\"{minimum} {middle} {maximum}\")"
      ]
    },
    {
      "cell_type": "markdown",
      "metadata": {
        "id": "nn6opiI8Uj1-"
      },
      "source": [
        "#### Write a Python function that takes a sequence of numbers and determines whether all the numbers are different from each other."
      ]
    },
    {
      "cell_type": "code",
      "execution_count": 14,
      "metadata": {},
      "outputs": [
        {
          "name": "stdout",
          "output_type": "stream",
          "text": [
            "[1.0, 2.0, 2.0, 3.0, 4.0]\n",
            "False\n",
            "[1.0, 2.0]\n",
            "False\n"
          ]
        }
      ],
      "source": [
        "total= int(input(\"length of numbers \"))\n",
        "List = []\n",
        "for i in range(total):\n",
        "    x=float(input(f\"enter number in index {i} \"))\n",
        "    List.append(x)\n",
        "print(List)\n",
        "if(total==len(set(List))):\n",
        "    print(True)\n",
        "else:\n",
        "    print(False)\n",
        "    \n",
        "\n",
        "#another\n",
        "List = []\n",
        "for i in range(total):\n",
        "    x=float(input(f\"enter number in index {i} \"))\n",
        "    if x in List:\n",
        "        break\n",
        "    else:\n",
        "        List.append(x)\n",
        "print(List)\n",
        "if(len(List)==total):\n",
        "    print(True)\n",
        "else:\n",
        "    print(False)"
      ]
    },
    {
      "cell_type": "markdown",
      "metadata": {
        "id": "HHNeCzCWa3lx"
      },
      "source": [
        "#### Dictionary"
      ]
    },
    {
      "cell_type": "code",
      "execution_count": null,
      "metadata": {
        "colab": {
          "base_uri": "https://localhost:8080/"
        },
        "id": "WOrfDlTla-Lf",
        "outputId": "76889e97-c736-490b-d105-61ee74cfb137"
      },
      "outputs": [
        {
          "data": {
            "text/plain": [
              "['a', 'b', 'c']"
            ]
          },
          "execution_count": 27,
          "metadata": {},
          "output_type": "execute_result"
        }
      ],
      "source": [
        "dict1 = {'a': 100, 'b': 200, 'c': 300}\n",
        "list(dict1.keys())"
      ]
    },
    {
      "cell_type": "code",
      "execution_count": null,
      "metadata": {
        "colab": {
          "base_uri": "https://localhost:8080/"
        },
        "id": "DAdr9gOQbDng",
        "outputId": "578f6680-f1e7-49cb-eaa0-bec2445dde2d"
      },
      "outputs": [
        {
          "data": {
            "text/plain": [
              "[200, 300]"
            ]
          },
          "execution_count": 28,
          "metadata": {},
          "output_type": "execute_result"
        }
      ],
      "source": [
        "dict1 = {'a': 100, 'a': 200, 'c': 300}\n",
        "list(dict1.values())"
      ]
    },
    {
      "cell_type": "code",
      "execution_count": null,
      "metadata": {
        "colab": {
          "base_uri": "https://localhost:8080/"
        },
        "id": "XzjcaUpqbMGc",
        "outputId": "f18592a5-dee7-41ae-8f01-621dc6a44b0f"
      },
      "outputs": [
        {
          "data": {
            "text/plain": [
              "[('a', 200), ('c', 300)]"
            ]
          },
          "execution_count": 29,
          "metadata": {},
          "output_type": "execute_result"
        }
      ],
      "source": [
        "dict1 = {'a': 100, 'a': 200, 'c': 300}\n",
        "list(dict1.items())"
      ]
    },
    {
      "cell_type": "markdown",
      "metadata": {
        "id": "6c1ld1XoZ_RK"
      },
      "source": [
        "```\n",
        "Input : {‘a’: 100, ‘b’:200, ‘c’:300}\n",
        "```\n",
        "Output : 600\n",
        "```\n",
        "# Input : {‘x’: 25, ‘y’:18, ‘z’:45}\n",
        "\n",
        "```\n",
        "Output : 88"
      ]
    },
    {
      "cell_type": "code",
      "execution_count": 3,
      "metadata": {
        "colab": {
          "base_uri": "https://localhost:8080/"
        },
        "id": "tXhL4XGdR6oE",
        "outputId": "47586d5b-1486-4989-d409-5f9b53d066f6"
      },
      "outputs": [
        {
          "data": {
            "text/plain": [
              "15"
            ]
          },
          "execution_count": 3,
          "metadata": {},
          "output_type": "execute_result"
        }
      ],
      "source": [
        "sum([0,1,2,3,4,5])\n",
        "sum((0,1,2,3,4,5))\n",
        "sum({0,1,2,3,4,5})\n",
        "sum({5:5,10:11})"
      ]
    },
    {
      "cell_type": "markdown",
      "metadata": {
        "id": "6BJBp-omBEnB"
      },
      "source": [
        "### Python program to find the sum of all values in a dictionary\n"
      ]
    },
    {
      "cell_type": "code",
      "execution_count": 10,
      "metadata": {},
      "outputs": [
        {
          "name": "stdout",
          "output_type": "stream",
          "text": [
            "15\n"
          ]
        }
      ],
      "source": [
        "Dict={'a':10,'b':-20,'c':30,'d':-5}\n",
        "print(sum(Dict.values()))"
      ]
    },
    {
      "cell_type": "markdown",
      "metadata": {
        "id": "LcvPYHMNb3KI"
      },
      "source": [
        "### Filter the negative values from given dictionary"
      ]
    },
    {
      "cell_type": "code",
      "execution_count": 11,
      "metadata": {},
      "outputs": [
        {
          "name": "stdout",
          "output_type": "stream",
          "text": [
            "{'a': 10, 'c': 30}\n"
          ]
        }
      ],
      "source": [
        "Dict={'a':10,'b':-20,'c':30,'d':-5}\n",
        "Dict2={k:v for k,v in Dict.items() if v>=0}\n",
        "print(Dict2)"
      ]
    },
    {
      "cell_type": "markdown",
      "metadata": {
        "id": "zIj0KxvgIO58"
      },
      "source": [
        "### Test if all Values are Same in Dictionary"
      ]
    },
    {
      "cell_type": "code",
      "execution_count": 6,
      "metadata": {},
      "outputs": [
        {
          "name": "stdout",
          "output_type": "stream",
          "text": [
            "False\n",
            "{10, 5}\n"
          ]
        }
      ],
      "source": [
        "Dict={'a':5,'b':5,'c':5,'d':10}\n",
        "x=set(Dict.values())\n",
        "if len(x)==1:\n",
        "    print(True)\n",
        "else:\n",
        "    print(False)\n",
        "print(x)"
      ]
    },
    {
      "cell_type": "markdown",
      "metadata": {
        "id": "-aCAiR5mktpN"
      },
      "source": [
        "### test_dict = {\"Gfg\": 8, \"is\": 5, \"Best\": 5}\n",
        "### False"
      ]
    },
    {
      "cell_type": "code",
      "execution_count": 5,
      "metadata": {},
      "outputs": [
        {
          "name": "stdout",
          "output_type": "stream",
          "text": [
            "True\n"
          ]
        }
      ],
      "source": [
        "Dict={'a':\"orange\",'b':\"banana\",'c':\"apple\"}\n",
        "x=input(\"enter fruit \") #banana\n",
        "\n",
        "#to use any\n",
        "Dict2={x in Dict.values():v for _,v in Dict.items()}\n",
        "print(any(Dict2))"
      ]
    },
    {
      "cell_type": "markdown",
      "metadata": {
        "id": "PG5Z5JNJMLTi"
      },
      "source": [
        "# `any`"
      ]
    },
    {
      "cell_type": "code",
      "execution_count": null,
      "metadata": {
        "colab": {
          "base_uri": "https://localhost:8080/"
        },
        "id": "42838XSZMPoh",
        "outputId": "e8cb1f25-4cfb-4b2e-b77a-b3f6d8d33348"
      },
      "outputs": [
        {
          "name": "stdout",
          "output_type": "stream",
          "text": [
            "True\n"
          ]
        }
      ],
      "source": [
        "mylist = [False, True, False]\n",
        "x = any(mylist)\n",
        "print(x)\n"
      ]
    },
    {
      "cell_type": "code",
      "execution_count": null,
      "metadata": {
        "colab": {
          "base_uri": "https://localhost:8080/"
        },
        "id": "jMcpwFY0MonY",
        "outputId": "b938cb79-c73e-452c-cc21-80b614560020"
      },
      "outputs": [
        {
          "name": "stdout",
          "output_type": "stream",
          "text": [
            "True\n"
          ]
        }
      ],
      "source": [
        "mydict = {0 : \"Apple\", 1 : \"Orange\"}\n",
        "x = any(mydict)\n",
        "print(x)"
      ]
    },
    {
      "cell_type": "code",
      "execution_count": null,
      "metadata": {
        "colab": {
          "base_uri": "https://localhost:8080/"
        },
        "id": "sDyzrjk5MuOl",
        "outputId": "1a49c77a-6951-44f0-e799-1c77bf610544"
      },
      "outputs": [
        {
          "name": "stdout",
          "output_type": "stream",
          "text": [
            "False\n"
          ]
        }
      ],
      "source": [
        "mydict = {0 : \"Apple\", 0 : True}\n",
        "x = any(mydict)\n",
        "print(x)"
      ]
    },
    {
      "cell_type": "markdown",
      "metadata": {
        "id": "hrg9MKDKMb0Y"
      },
      "source": [
        "#### <font color='gold'>Note: When used on a dictionary, the any() function checks if any of the keys are true, not the values.</font>\n",
        "\n",
        "\n"
      ]
    },
    {
      "cell_type": "markdown",
      "metadata": {
        "id": "RXYELJ29BVOm"
      },
      "source": [
        "### Test if vlaue input  in dictionary value"
      ]
    },
    {
      "cell_type": "code",
      "execution_count": 19,
      "metadata": {},
      "outputs": [
        {
          "name": "stdout",
          "output_type": "stream",
          "text": [
            "True\n"
          ]
        }
      ],
      "source": [
        "dict1 = {'a': 100, 'b': 200, 'c': 300}\n",
        "x=200\n",
        "if x in dict1.values():\n",
        "    print(True)\n",
        "else:\n",
        "    print(False)"
      ]
    },
    {
      "cell_type": "markdown",
      "metadata": {
        "id": "3GT4F80UOaTa"
      },
      "source": [
        "### Calculate the sum of all numbers from 0 to a given number"
      ]
    },
    {
      "cell_type": "code",
      "execution_count": 14,
      "metadata": {},
      "outputs": [
        {
          "name": "stdout",
          "output_type": "stream",
          "text": [
            "the sum from 0 to 5 included is: 15\n"
          ]
        }
      ],
      "source": [
        "end=int(input(\"enter a number \"))\n",
        "sum=0\n",
        "for i in range(end+1):\n",
        "    sum+=i\n",
        "print(f\"the sum from 0 to {end} included is: {sum}\")"
      ]
    },
    {
      "cell_type": "markdown",
      "metadata": {
        "id": "1tHglDPNUT5J"
      },
      "source": [
        "### Find the factorial of a given number using while loop"
      ]
    },
    {
      "cell_type": "markdown",
      "metadata": {
        "id": "QT1487BDVCIU"
      },
      "source": [
        "#### For example: calculate the factorial of 5\n",
        "\n"
      ]
    },
    {
      "cell_type": "markdown",
      "metadata": {
        "id": "FCTJ9pt_VE-y"
      },
      "source": [
        "\n",
        "\n",
        "```\n",
        "# 5! = 5 × 4 × 3 × 2 × 1 = 120\n",
        "\n",
        "```\n",
        "\n"
      ]
    },
    {
      "cell_type": "code",
      "execution_count": null,
      "metadata": {},
      "outputs": [
        {
          "name": "stdout",
          "output_type": "stream",
          "text": [
            "the factorial of 5 is: 120\n"
          ]
        }
      ],
      "source": [
        "factorial=int(input(\"enter a number \"))\n",
        "fact=1\n",
        "for i in range(1,factorial+1,1):\n",
        "    fact=fact*i\n",
        "print(f\"the factorial of {end} is: {fact}\")"
      ]
    },
    {
      "cell_type": "markdown",
      "metadata": {
        "id": "q_f9IMbDYkLm"
      },
      "source": [
        "### Use a loop to display elements from a given list present at odd index positions"
      ]
    },
    {
      "cell_type": "markdown",
      "metadata": {
        "id": "Q9gHbx7XZBFc"
      },
      "source": [
        "```\n",
        "my_list = [10, 20, 30, 40, 50, 60, 70, 80, 90, 100]\n",
        "Expected output:\n",
        "20 40 60 80 100\n",
        "```\n",
        "\n"
      ]
    },
    {
      "cell_type": "code",
      "execution_count": 26,
      "metadata": {},
      "outputs": [
        {
          "name": "stdout",
          "output_type": "stream",
          "text": [
            "20 40 60 80 100 "
          ]
        }
      ],
      "source": [
        "my_list = [10, 20, 30, 40, 50, 60, 70, 80, 90, 100]\n",
        "for i in range(1,len(my_list),2):\n",
        "    print(my_list[i], end=\" \")"
      ]
    },
    {
      "cell_type": "markdown",
      "metadata": {
        "id": "otJlQghGZZnk"
      },
      "source": [
        "### Calculate the cube of all numbers from 1 to a given number"
      ]
    },
    {
      "cell_type": "code",
      "execution_count": 15,
      "metadata": {},
      "outputs": [
        {
          "name": "stdout",
          "output_type": "stream",
          "text": [
            "cube of 1 is: 1\n",
            "cube of 2 is: 8\n",
            "cube of 3 is: 27\n",
            "cube of 4 is: 64\n",
            "cube of 5 is: 125\n"
          ]
        }
      ],
      "source": [
        "end=int(input(\"enter a number \"))\n",
        "for i in range(1,end+1,1):\n",
        "    print(f\"cube of {i} is: {i**3}\")"
      ]
    },
    {
      "cell_type": "markdown",
      "metadata": {
        "id": "NRZ3LLaUmtQu"
      },
      "source": [
        "### len of str in list\n",
        "### ['apple', 'orange', 'cat']"
      ]
    },
    {
      "cell_type": "code",
      "execution_count": null,
      "metadata": {
        "colab": {
          "base_uri": "https://localhost:8080/"
        },
        "id": "bIhFj4Q8ZlrW",
        "outputId": "c7a2f25b-b6c4-4289-a9c3-91b8504ed81a"
      },
      "outputs": [
        {
          "name": "stdout",
          "output_type": "stream",
          "text": [
            "[5, 6, 3]\n"
          ]
        }
      ],
      "source": [
        "l = ['apple', 'orange', 'cat']\n",
        "print([ len(i) for i in l])\n"
      ]
    },
    {
      "cell_type": "markdown",
      "metadata": {
        "id": "V05BjYlMeMjZ"
      },
      "source": [
        "### program to count number of vowels using sets in given string\n"
      ]
    },
    {
      "cell_type": "code",
      "execution_count": 37,
      "metadata": {},
      "outputs": [
        {
          "name": "stdout",
          "output_type": "stream",
          "text": [
            "2\n"
          ]
        }
      ],
      "source": [
        "vowels={\"a\",\"e\",\"i\",\"o\",\"u\"}\n",
        "word=input(\"enter a word \")\n",
        "#Amit is the word\n",
        "sum=0\n",
        "for i in word.lower():\n",
        "    if i in vowels:\n",
        "        sum+=1\n",
        "print(sum)"
      ]
    },
    {
      "cell_type": "markdown",
      "metadata": {
        "id": "rdIZGB8kgcMQ"
      },
      "source": [
        "\n",
        "### Write a Python program to add an item to a tuple."
      ]
    },
    {
      "cell_type": "code",
      "execution_count": 36,
      "metadata": {},
      "outputs": [
        {
          "data": {
            "text/plain": [
              "(1, 2, 3, 4, 5, 6, 7, 8, 9, 10)"
            ]
          },
          "execution_count": 36,
          "metadata": {},
          "output_type": "execute_result"
        }
      ],
      "source": [
        "my_tuple=(1,2,3,4,5,6,7,8,9)\n",
        "my_tuple+(10,)"
      ]
    },
    {
      "cell_type": "markdown",
      "metadata": {
        "id": "NpZ-cEhZkSlO"
      },
      "source": [
        "### Write a Python program to multiply all the items in a list."
      ]
    },
    {
      "cell_type": "code",
      "execution_count": 41,
      "metadata": {},
      "outputs": [
        {
          "data": {
            "text/plain": [
              "120"
            ]
          },
          "execution_count": 41,
          "metadata": {},
          "output_type": "execute_result"
        }
      ],
      "source": [
        "my_list=[1,2,3,4,5]\n",
        "mul=1\n",
        "for i in my_list:\n",
        "    mul*=i\n",
        "mul"
      ]
    },
    {
      "cell_type": "markdown",
      "metadata": {
        "id": "2fwBrTI1k1XG"
      },
      "source": [
        "### Write a Python program to get the smallest number from a list."
      ]
    },
    {
      "cell_type": "code",
      "execution_count": 46,
      "metadata": {},
      "outputs": [
        {
          "name": "stdout",
          "output_type": "stream",
          "text": [
            "-5\n"
          ]
        },
        {
          "data": {
            "text/plain": [
              "-5"
            ]
          },
          "execution_count": 46,
          "metadata": {},
          "output_type": "execute_result"
        }
      ],
      "source": [
        "my_list=[4,2,0,2,4,-5]\n",
        "smallest=my_list[0]\n",
        "for i in my_list:\n",
        "    if i<smallest:\n",
        "        smallest=i\n",
        "print(smallest)\n",
        "\n",
        "#OR\n",
        "min(my_list)"
      ]
    },
    {
      "cell_type": "markdown",
      "metadata": {
        "id": "-k8pdXDek5IW"
      },
      "source": [
        "### Write a Python program to get the largest number from a list."
      ]
    },
    {
      "cell_type": "code",
      "execution_count": 47,
      "metadata": {},
      "outputs": [
        {
          "data": {
            "text/plain": [
              "5"
            ]
          },
          "execution_count": 47,
          "metadata": {},
          "output_type": "execute_result"
        }
      ],
      "source": [
        "my_list=[4,2,0,2,5,-5]\n",
        "max(my_list)"
      ]
    },
    {
      "cell_type": "markdown",
      "metadata": {
        "id": "xY1nqjlSlC7b"
      },
      "source": [
        "### Write a Python program to clone or copy a list"
      ]
    },
    {
      "cell_type": "code",
      "execution_count": 49,
      "metadata": {},
      "outputs": [
        {
          "data": {
            "text/plain": [
              "[4, 2, 0, 2, 4, -5]"
            ]
          },
          "execution_count": 49,
          "metadata": {},
          "output_type": "execute_result"
        }
      ],
      "source": [
        "my_list=[4,2,0,2,4,-5]\n",
        "list2=my_list.copy()\n",
        "list2"
      ]
    },
    {
      "cell_type": "markdown",
      "metadata": {
        "id": "48pndthSlHSg"
      },
      "source": [
        "### Write a Python program to remove item(s) from a given set.\n",
        "\n",
        "### s = set([0, 1, 3, 4, 5])"
      ]
    },
    {
      "cell_type": "code",
      "execution_count": 51,
      "metadata": {},
      "outputs": [
        {
          "data": {
            "text/plain": [
              "{0, 1, 4, 5}"
            ]
          },
          "execution_count": 51,
          "metadata": {},
          "output_type": "execute_result"
        }
      ],
      "source": [
        "s = set([0, 1, 3, 4, 5])\n",
        "s.remove(3)\n",
        "s"
      ]
    },
    {
      "cell_type": "markdown",
      "metadata": {
        "id": "J5nHkSQ4lmlq"
      },
      "source": [
        "### Write a Python program to find the maximum and minimum values in a set."
      ]
    },
    {
      "cell_type": "code",
      "execution_count": 53,
      "metadata": {},
      "outputs": [
        {
          "name": "stdout",
          "output_type": "stream",
          "text": [
            "5 -5\n"
          ]
        }
      ],
      "source": [
        "s = set([-5,0, 1, 3, 4, 5])\n",
        "print(max(s),min(s))"
      ]
    },
    {
      "cell_type": "markdown",
      "metadata": {
        "id": "ZDEKN9ulnLZO"
      },
      "source": [
        "### Write a Python program to convert a tuple to a dictionary.\n",
        "### dict1 = {}\n",
        "### tuple1 = (\"name\", \"age\", \"city\",\"city\")\n",
        "\n",
        "```\n",
        "# enumerate()\n",
        "```\n",
        "\n"
      ]
    },
    {
      "cell_type": "code",
      "execution_count": 2,
      "metadata": {},
      "outputs": [
        {
          "data": {
            "text/plain": [
              "{0: 'name', 1: 'age', 2: 'city', 3: 'city'}"
            ]
          },
          "execution_count": 2,
          "metadata": {},
          "output_type": "execute_result"
        }
      ],
      "source": [
        "tuple1 = (\"name\", \"age\", \"city\",\"city\")\n",
        "dict1=dict(enumerate(tuple1))\n",
        "dict1"
      ]
    },
    {
      "cell_type": "markdown",
      "metadata": {
        "id": "UN1IZCJHsWcX"
      },
      "source": [
        "### Write a Python program to replace the last value of tuples in a list.\n",
        "\n",
        "### Sample list: [(10, 20, 40), (40, 50, 60), (70, 80, 90)]\n",
        "\n",
        "### Expected Output: [(10, 20, 100), (40, 50, 100), (70, 80, 100)]\n",
        "\n"
      ]
    },
    {
      "cell_type": "code",
      "execution_count": 3,
      "metadata": {},
      "outputs": [
        {
          "name": "stdout",
          "output_type": "stream",
          "text": [
            "[(10, 20, 100), (40, 50, 100), (70, 80, 100)]\n"
          ]
        }
      ],
      "source": [
        "List=[(10,20,30),(40,50,60),(70,80,90)]\n",
        "List2=[]\n",
        "for tuples in List:\n",
        "    tuples=list(tuples)\n",
        "    tuples[-1]=100\n",
        "    List2.append(tuple(tuples))\n",
        "print(List2)"
      ]
    }
  ],
  "metadata": {
    "colab": {
      "provenance": []
    },
    "kernelspec": {
      "display_name": "Python 3",
      "name": "python3"
    },
    "language_info": {
      "codemirror_mode": {
        "name": "ipython",
        "version": 3
      },
      "file_extension": ".py",
      "mimetype": "text/x-python",
      "name": "python",
      "nbconvert_exporter": "python",
      "pygments_lexer": "ipython3",
      "version": "3.11.8"
    }
  },
  "nbformat": 4,
  "nbformat_minor": 0
}
