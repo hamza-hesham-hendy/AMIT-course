{
  "cells": [
    {
      "cell_type": "markdown",
      "metadata": {
        "id": "2a0y9sz6Znvf"
      },
      "source": [
        "## Create a simple class names calculator"
      ]
    },
    {
      "cell_type": "code",
      "execution_count": 41,
      "metadata": {},
      "outputs": [
        {
          "name": "stdout",
          "output_type": "stream",
          "text": [
            "multiplying: 2*5= 10\n",
            "adding: 4+6= 10\n",
            "subtracting: 7-2= 5\n"
          ]
        }
      ],
      "source": [
        "class calculator():\n",
        "    def add(self,x,y):\n",
        "        print(f\"adding: {x}+{y}= {x+y}\")\n",
        "    def sub(self,x,y):\n",
        "        print(f\"subtracting: {x}-{y}= {x-y}\")\n",
        "    def mull(self,x,y):\n",
        "        print(f\"multiplying: {x}*{y}= {x*y}\")\n",
        "c=calculator()\n",
        "c.mull(2,5)\n",
        "c.add(4,6)\n",
        "c.sub(7,2)"
      ]
    },
    {
      "cell_type": "markdown",
      "metadata": {
        "id": "h-9hbnhMZrdV"
      },
      "source": [
        "## Create a constructor that prints Welcome message"
      ]
    },
    {
      "cell_type": "code",
      "execution_count": 42,
      "metadata": {},
      "outputs": [
        {
          "name": "stdout",
          "output_type": "stream",
          "text": [
            "welcome hamza\n"
          ]
        }
      ],
      "source": [
        "class helloworld():\n",
        "    def __init__(self,name):\n",
        "        print(f\"welcome {name}\")\n",
        "        \n",
        "hi=helloworld(\"hamza\")"
      ]
    },
    {
      "cell_type": "markdown",
      "metadata": {
        "id": "CciUtqOgZtr9"
      },
      "source": [
        "##  Add 2 methods to the class sum & mull"
      ]
    },
    {
      "cell_type": "markdown",
      "metadata": {},
      "source": [
        "Done above"
      ]
    },
    {
      "cell_type": "markdown",
      "metadata": {
        "id": "KX9v_nj0ZwX7"
      },
      "source": [
        "##  The sum method return the sum of 2 arguments x and y"
      ]
    },
    {
      "cell_type": "code",
      "execution_count": 43,
      "metadata": {},
      "outputs": [
        {
          "name": "stdout",
          "output_type": "stream",
          "text": [
            "adding: 4+6= 10\n",
            "10\n",
            "multiplying: 3*5= 15\n",
            "15\n"
          ]
        }
      ],
      "source": [
        "class calculator():\n",
        "    def add(self,x,y):\n",
        "        z=x+y\n",
        "        print(f\"adding: {x}+{y}= {z}\")\n",
        "        return z\n",
        "    def sub(self,x,y):\n",
        "        z=x-y\n",
        "        print(f\"subtracting: {x}-{y}= {z}\")\n",
        "        return z\n",
        "    def mull(self,x,y):\n",
        "        z=x*y\n",
        "        print(f\"multiplying: {x}*{y}= {z}\")\n",
        "        return z\n",
        "\n",
        "c=calculator()\n",
        "sum=c.add(4,6)\n",
        "print(sum)\n",
        "mul=c.mull(3,5)\n",
        "print(mul)"
      ]
    },
    {
      "cell_type": "markdown",
      "metadata": {
        "id": "z-zkBmIzZ1mI"
      },
      "source": [
        "## The mull method return the multiplication of the arguments x and y"
      ]
    },
    {
      "cell_type": "markdown",
      "metadata": {},
      "source": [
        "Done above."
      ]
    },
    {
      "cell_type": "markdown",
      "metadata": {
        "id": "EvC_D3eHZ3mf"
      },
      "source": [
        "##  Take an object from the class"
      ]
    },
    {
      "cell_type": "markdown",
      "metadata": {},
      "source": [
        "Done above."
      ]
    },
    {
      "cell_type": "markdown",
      "metadata": {
        "id": "hY6TnxuoZ9jw"
      },
      "source": [
        "## Explain in few words why we call the self in methods"
      ]
    },
    {
      "cell_type": "markdown",
      "metadata": {},
      "source": [
        "To access the attributes of the class."
      ]
    },
    {
      "cell_type": "markdown",
      "metadata": {
        "id": "KdsHy2_CZ_d_"
      },
      "source": [
        "## What we mean with OOP 4 Pillars"
      ]
    },
    {
      "cell_type": "markdown",
      "metadata": {},
      "source": [
        "Inheritance, Polymorphism, Encapsulation and Abstraction."
      ]
    },
    {
      "cell_type": "markdown",
      "metadata": {
        "id": "_WkKdEQSaBlt"
      },
      "source": [
        "##  Why we use OOP in our code"
      ]
    },
    {
      "cell_type": "markdown",
      "metadata": {},
      "source": [
        "To make code more reusable and easier to work with larger programs."
      ]
    },
    {
      "cell_type": "markdown",
      "metadata": {
        "id": "IdJYRpDlaEca"
      },
      "source": [
        "## Create a new class names SciCalc with 3 methods , sum , mull , power all of them takes 2 argument x, y"
      ]
    },
    {
      "cell_type": "code",
      "execution_count": 44,
      "metadata": {},
      "outputs": [
        {
          "name": "stdout",
          "output_type": "stream",
          "text": [
            "adding: 4+6= 10\n",
            "10\n",
            "multiplying: 3*5= 15\n",
            "15\n",
            "power: 3^2= 9\n",
            "9\n"
          ]
        }
      ],
      "source": [
        "class SciCalc(calculator):\n",
        "    def add(self,x,y):\n",
        "        z=x+y\n",
        "        print(f\"adding: {x}+{y}= {z}\")\n",
        "        return z\n",
        "    def mull(self,x,y):\n",
        "        z=x*y\n",
        "        print(f\"multiplying: {x}*{y}= {z}\")\n",
        "        return z\n",
        "    def pow(self,x,y):\n",
        "        z=x**y\n",
        "        print(f\"power: {x}^{y}= {z}\")\n",
        "        return z\n",
        "\n",
        "c=SciCalc()\n",
        "sum=c.add(4,6)\n",
        "print(sum)\n",
        "mul=c.mull(3,5)\n",
        "print(mul)\n",
        "power=c.pow(3,2)\n",
        "print(power)"
      ]
    },
    {
      "cell_type": "markdown",
      "metadata": {
        "id": "qV1wzT51aHlw"
      },
      "source": [
        "## Sum return the sum of x and y"
      ]
    },
    {
      "cell_type": "markdown",
      "metadata": {},
      "source": [
        "Done above."
      ]
    },
    {
      "cell_type": "markdown",
      "metadata": {
        "id": "EwdGJ1KVaJ9W"
      },
      "source": [
        "##  Mull return the multiplication of x and y"
      ]
    },
    {
      "cell_type": "markdown",
      "metadata": {},
      "source": [
        "Done above."
      ]
    },
    {
      "cell_type": "markdown",
      "metadata": {
        "id": "aNNs5VAzaVZx"
      },
      "source": [
        "## Inherit from the Calc class , now remove the unneeded code the the SciCalc after inheriting"
      ]
    },
    {
      "cell_type": "code",
      "execution_count": 45,
      "metadata": {},
      "outputs": [
        {
          "name": "stdout",
          "output_type": "stream",
          "text": [
            "adding: 4+6= 10\n",
            "10\n",
            "multiplying: 3*5= 15\n",
            "15\n",
            "power: 3^2= 9\n",
            "9\n",
            "subtracting: 7-2= 5\n",
            "5\n",
            "absolute: |-5|=5\n",
            "5\n"
          ]
        }
      ],
      "source": [
        "class calculator():\n",
        "    def sub(self,x,y):\n",
        "        z=x-y\n",
        "        print(f\"subtracting: {x}-{y}= {z}\")\n",
        "        return z\n",
        "    def add(self,x,y):\n",
        "        z=x+y\n",
        "        print(f\"adding: {x}+{y}= {z}\")\n",
        "        return z\n",
        "    def mull(self,x,y):\n",
        "        z=x*y\n",
        "        print(f\"multiplying: {x}*{y}= {z}\")\n",
        "        return z\n",
        "\n",
        "class SciCalc(calculator):\n",
        "    def pow(self,x,y):\n",
        "        z=x**y\n",
        "        print(f\"power: {x}^{y}= {z}\")\n",
        "        return z\n",
        "    def absolute(self,x):\n",
        "        #z=abs(x)\n",
        "        if x<0:\n",
        "            z=x*-1\n",
        "        else:\n",
        "            z=x\n",
        "        print(f\"absolute: |{x}|={z}\")\n",
        "        return z\n",
        "\n",
        "c=SciCalc()\n",
        "sum=c.add(4,6)\n",
        "print(sum)\n",
        "mul=c.mull(3,5)\n",
        "print(mul)\n",
        "power=c.pow(3,2)\n",
        "print(power)\n",
        "sub=c.sub(7,2)\n",
        "print(sub)\n",
        "absol=c.absolute(-5)\n",
        "print(absol)"
      ]
    },
    {
      "cell_type": "markdown",
      "metadata": {
        "id": "BkMXbHfMaf5S"
      },
      "source": [
        "## Explain in few words what happened after inheriting"
      ]
    },
    {
      "cell_type": "markdown",
      "metadata": {},
      "source": [
        "One class inherit the properties and methods of another class so that a subclass can use the methods of their parent class."
      ]
    }
  ],
  "metadata": {
    "colab": {
      "private_outputs": true,
      "provenance": []
    },
    "kernelspec": {
      "display_name": "Python 3",
      "name": "python3"
    },
    "language_info": {
      "codemirror_mode": {
        "name": "ipython",
        "version": 3
      },
      "file_extension": ".py",
      "mimetype": "text/x-python",
      "name": "python",
      "nbconvert_exporter": "python",
      "pygments_lexer": "ipython3",
      "version": "3.11.8"
    }
  },
  "nbformat": 4,
  "nbformat_minor": 0
}
