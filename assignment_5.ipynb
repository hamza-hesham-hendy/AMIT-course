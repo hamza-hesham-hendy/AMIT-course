{
  "cells": [
    {
      "cell_type": "markdown",
      "metadata": {
        "id": "vj3HPudmuzG-"
      },
      "source": [
        "### Task 1"
      ]
    },
    {
      "cell_type": "markdown",
      "metadata": {
        "id": "Qe_S6JKbuXef"
      },
      "source": [
        "This code defines a simple bank system using Python classes. The `Bank class` manages user accounts, balances, registration, login, balance checking, deposits, and withdrawals. Here's a summary of the functionality:\n",
        "\n",
        "`User Registration`: Allows a user to register by entering a unique username and password. If the username already exists, it prompts the user to choose a different one.\n",
        "\n",
        "`User Login`: Allows a registered user to log in by entering their username and password. If the username and password match, the user is logged in successfully.\n",
        "\n",
        "`Check Balance`: Allows a logged-in user to check their current account balance.\n",
        "\n",
        "`Deposit`: Allows a logged-in user to deposit money into their account. The user enters the deposit amount, which is added to their account balance.\n",
        "\n",
        "`Withdrawal`: Allows a logged-in user to withdraw money from their account, provided they have sufficient balance. The user enters the withdrawal amount, which is deducted from their account balance."
      ]
    },
    {
      "cell_type": "code",
      "execution_count": 23,
      "metadata": {},
      "outputs": [],
      "source": [
        "class User:\n",
        "    def __init__(self, username, password, balance=0):\n",
        "        self.username = username\n",
        "        self.password = password\n",
        "        self.balance = balance\n",
        "\n",
        "class bank():\n",
        "    def __init__(self):\n",
        "        self.users=[]\n",
        "        \n",
        "    def view(self):\n",
        "        for user in self.users:\n",
        "            print(f\"\\nUsername: {user.username} ,\\t Passwrod: {user.password}\")\n",
        "        \n",
        "    def Registration(self,username,password):\n",
        "        for user in self.users:\n",
        "            if user.username == username:\n",
        "                print(f\"Username {username} already exists.\")\n",
        "                return\n",
        "        new_user = User(username, password)\n",
        "        self.users.append(new_user)\n",
        "        print(f\"User {username} registered successfully.\")\n",
        "        return new_user\n",
        "\n",
        "    def login(self,username,password):  \n",
        "        for user in self.users:\n",
        "            if user.username==username:\n",
        "                if user.password==password:\n",
        "                    print(\"Log-in successful\")\n",
        "                    return user\n",
        "                else:\n",
        "                    print(\"Wrong password\")\n",
        "                    return\n",
        "        print(f\"User {username} doesn't exist\")\n",
        "        \n",
        "    def deposit(self,user,amount):\n",
        "        if amount>0:\n",
        "            user.balance+=amount\n",
        "            print(f\"Deposit in {user.username} of {amount} successful\")\n",
        "        else:\n",
        "            print(\"Invalid amount for deposit\")\n",
        "            \n",
        "    def withdrawal(self,user,amount):\n",
        "        if amount>0:\n",
        "            if user.balance>amount:\n",
        "                user.balance-=amount\n",
        "                print(f\"{amount} Withdrawaned from {user.username} successfully\")\n",
        "            else:\n",
        "                print(f\"Not enough balance for withdrawal of {amount}\")\n",
        "        else:\n",
        "            print(\"Invalid amount for deposit\")"
      ]
    },
    {
      "cell_type": "code",
      "execution_count": 24,
      "metadata": {},
      "outputs": [
        {
          "name": "stdout",
          "output_type": "stream",
          "text": [
            "User hamza registered successfully.\n",
            "Username hamza already exists.\n",
            "User mahmoud registered successfully.\n",
            "Log-in successful\n",
            "balance of hamza = 0\n",
            "Deposit in hamza of 100.0 successful\n",
            "Not enough balance for withdrawal of 150.0\n",
            "balance of hamza = 100.0\n",
            "60.0 Withdrawaned from hamza successfully\n",
            "balance of hamza = 40.0\n",
            "Username: hamza,\t Passwrod: hendy \n",
            "\n",
            "Username: mahmoud,\t Passwrod: rady' \n",
            "\n"
          ]
        }
      ],
      "source": [
        "Bank=bank()\n",
        "while True:\n",
        "    x=input(\"\"\"please choose operation\n",
        "            r to Registration\n",
        "            l to login\n",
        "            b to balance\n",
        "            d to deposit\n",
        "            w to withdrawal\n",
        "            v to view users and passwords\n",
        "            0 to exit\"\"\")\n",
        "    x=x.lower()\n",
        "    if x==\"r\":\n",
        "        username=input(\"please enter username\")\n",
        "        password=input(\"please enter password\")\n",
        "        user=Bank.Registration(username,password)\n",
        "    elif x==\"l\":\n",
        "        username=input(\"please enter username\")\n",
        "        password=input(\"please enter password\")\n",
        "        user=Bank.login(username,password)\n",
        "    elif x==\"b\":\n",
        "        print(f\"balance of {user.username} = {user.balance}\")\n",
        "    elif x==\"d\":\n",
        "        amount=float(input(\"please enter amount to deposit\"))\n",
        "        Bank.deposit(user,amount)\n",
        "    elif x==\"w\":\n",
        "        amount=float(input(\"please enter amount to withdraw\"))\n",
        "        Bank.withdrawal(user,amount)\n",
        "    elif x==\"v\":\n",
        "        Bank.view()\n",
        "    elif x==\"0\":\n",
        "        break\n",
        "    else:\n",
        "        print(\"invalid operation\")"
      ]
    },
    {
      "cell_type": "markdown",
      "metadata": {
        "id": "adnMuaiQu1-_"
      },
      "source": [
        "### Task 2"
      ]
    },
    {
      "cell_type": "markdown",
      "metadata": {
        "id": "RacJKaSmvOAc"
      },
      "source": [
        "Defines a class named `Library` that represents a `library` system. The class has attributes for a list of games (gameslist), a dictionary of lenders (lenders), and a dictionary of donors (donors). It also includes methods for managing the library's collection of games.\n",
        "\n",
        "`games` method returns the list of games in the library.\n",
        "\n",
        "The `lend method` allows a person to borrow a game from the library by removing the game from the list of games and updating the lenders dictionary with the borrower's name and the borrowed game.\n",
        "\n",
        "The `returnb method` allows a person to return a borrowed game to the library by adding the game back to the list of games and removing the borrower's name from the lenders dictionary.\n",
        "\n",
        "The `donate method` allows a person to donate a new game to the library by adding the game to the list of games and updating the donors dictionary with the donor's name and the donated game."
      ]
    },
    {
      "cell_type": "code",
      "execution_count": 76,
      "metadata": {
        "id": "9d6mT0weuCr0"
      },
      "outputs": [],
      "source": [
        "class library():\n",
        "    def __init__(self):\n",
        "        self.gameslist=[\"fortnite\",\"wwe\",\"pubg\",\"lol\"]\n",
        "        self.lenders={}\n",
        "        self.donors={}\n",
        "    \n",
        "    def games(self):\n",
        "        print(self.gameslist)\n",
        "    \n",
        "    def lend(self,name,gameName):\n",
        "        if gameName in self.gameslist:\n",
        "            if name in self.lenders:\n",
        "                self.lenders[name].append(gameName)\n",
        "            else:\n",
        "                self.lenders[name]=[gameName]\n",
        "            self.gameslist.remove(gameName)\n",
        "            print(f\"{name.title()} borrowed game {gameName} successfully\")\n",
        "            return\n",
        "        else:\n",
        "            print(\"game not found\")\n",
        "    \n",
        "    def returng(self,name,gameName):\n",
        "        if name in self.lenders:\n",
        "            if len(self.lenders[name])>0:\n",
        "                if gameName in self.lenders[name]:\n",
        "                    self.gameslist.append(gameName)\n",
        "                    self.lenders[name].remove(gameName)\n",
        "                    print(f\"{name} returned {gameName} successfully\")\n",
        "                    return\n",
        "                else:\n",
        "                    print(f\"{name} didn't borrow {gameName}\")\n",
        "                    return\n",
        "        print(f\"{name} didn't borrow any games\")\n",
        "                \n",
        "    def donate(self,name,gameName):\n",
        "        if gameName in self.gameslist:\n",
        "            print(f\"game {gameName} already exists\")\n",
        "            return\n",
        "        for lender in self.lenders:\n",
        "            if gameName in self.lenders[lender]:\n",
        "                print(f\"game {gameName} already exists\")\n",
        "                return\n",
        "            pass\n",
        "        if name in self.donors:\n",
        "            self.donors[name].append(gameName)\n",
        "            self.gameslist.append(gameName)\n",
        "        else:\n",
        "            self.donors[name]=[gameName]\n",
        "            self.gameslist.append(gameName)"
      ]
    },
    {
      "cell_type": "code",
      "execution_count": 77,
      "metadata": {},
      "outputs": [
        {
          "name": "stdout",
          "output_type": "stream",
          "text": [
            "['fortnite', 'wwe', 'pubg', 'lol']\n",
            "Hamza borrowed game pubg successfully\n",
            "Hamza borrowed game wwe successfully\n",
            "['fortnite', 'lol']\n",
            "{'hamza': ['pubg', 'wwe']}\n",
            "hamza didn't borrow r6s\n",
            "hamza returned wwe successfully\n",
            "['fortnite', 'lol', 'wwe']\n",
            "{'hamza': ['pubg']}\n",
            "game pubg already exists\n",
            "game wwe already exists\n",
            "{'hendy': ['r6s']}\n",
            "['fortnite', 'lol', 'wwe', 'r6s']\n"
          ]
        }
      ],
      "source": [
        "x=library()\n",
        "x.games()\n",
        "x.lend(\"hamza\",\"pubg\")\n",
        "x.lend(\"hamza\",\"wwe\")\n",
        "print(x.gameslist)\n",
        "print(x.lenders)\n",
        "x.returng(\"hamza\",\"r6s\")\n",
        "x.returng(\"hamza\",\"wwe\")\n",
        "x.games\n",
        "print(x.gameslist)\n",
        "print(x.lenders)\n",
        "x.donate(\"hendy\",\"pubg\")\n",
        "x.donate(\"hendy\",\"wwe\")\n",
        "x.donate(\"hendy\",\"r6s\")\n",
        "print(x.donors)\n",
        "print(x.gameslist)"
      ]
    }
  ],
  "metadata": {
    "colab": {
      "private_outputs": true,
      "provenance": []
    },
    "kernelspec": {
      "display_name": "Python 3",
      "name": "python3"
    },
    "language_info": {
      "codemirror_mode": {
        "name": "ipython",
        "version": 3
      },
      "file_extension": ".py",
      "mimetype": "text/x-python",
      "name": "python",
      "nbconvert_exporter": "python",
      "pygments_lexer": "ipython3",
      "version": "3.11.8"
    }
  },
  "nbformat": 4,
  "nbformat_minor": 0
}
